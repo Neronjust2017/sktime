{
 "cells": [
  {
   "cell_type": "code",
   "execution_count": 1,
   "metadata": {},
   "outputs": [],
   "source": [
    "import urllib.request\n",
    "import os\n",
    "import zipfile\n",
    "from scipy.io import arff\n",
    "import pandas as pd\n",
    "import numpy as np\n",
    "from sktime.classifiers import TSDummyClassifier\n"
   ]
  },
  {
   "cell_type": "code",
   "execution_count": 2,
   "metadata": {},
   "outputs": [],
   "source": [
    "TRAIN_SUFFIX = '_TRAIN.arff'\n",
    "TEST_SUFFIC  = '_TEST.arff'"
   ]
  },
  {
   "cell_type": "code",
   "execution_count": 3,
   "metadata": {},
   "outputs": [],
   "source": [
    "#download\n",
    "dtsName = 'GunPoint'\n",
    "dtsExt = '.zip'\n",
    "TSCurl = 'http://www.timeseriesclassification.com/Downloads/'\n",
    "url = f'{TSCurl}{dtsName}{dtsExt}'\n",
    "\n",
    "proxy_url = 'ldn2tra3:3128'\n",
    "cache_path = f'.{os.sep}.sktime_temp_data{os.sep}'\n",
    "store_loc = f'{cache_path}{dtsName}{os.sep}'\n",
    "file_loc = f'{store_loc}{dtsName}{dtsExt}'\n",
    "if not os.path.exists(store_loc):\n",
    "    os.makedirs(store_loc)\n",
    "\n",
    "\n",
    "if proxy_url is not None:    \n",
    "    proxy = urllib.request.ProxyHandler({'http': proxy_url})\n",
    "    opener = urllib.request.build_opener(proxy)\n",
    "    urllib.request.install_opener(opener)\n",
    "\n",
    "if not os.path.exists(file_loc):\n",
    "    urllib.request.urlretrieve(url, file_loc)  "
   ]
  },
  {
   "cell_type": "code",
   "execution_count": 4,
   "metadata": {},
   "outputs": [],
   "source": [
    "#unzip\n",
    "zip_ref = zipfile.ZipFile(file_loc, 'r')\n",
    "zip_ref.extractall(store_loc)\n",
    "zip_ref.close()"
   ]
  },
  {
   "cell_type": "code",
   "execution_count": 5,
   "metadata": {},
   "outputs": [],
   "source": [
    "#import from arff\n",
    "TARGET_ATTRIBUTE_NAME = 'target'\n",
    "data, meta = arff.loadarff(f'{store_loc}{dtsName}{TRAIN_SUFFIX}')\n",
    "df = pd.DataFrame(data)\n",
    "target_ser = pd.Series(df[TARGET_ATTRIBUTE_NAME])\n",
    "target_ser = target_ser.apply(int)\n",
    "data_df = df.drop(TARGET_ATTRIBUTE_NAME,axis=1)"
   ]
  },
  {
   "cell_type": "code",
   "execution_count": 6,
   "metadata": {},
   "outputs": [],
   "source": [
    "num_items = data_df.shape[0]\n",
    "# sktime_df = pd.DataFrame({'dim1':np.empty(num_items),'target':target_ser})\n",
    "sktime_df = pd.DataFrame(columns=['dim1','target'])\n",
    "for i in range(num_items):\n",
    "        sktime_df.at[i,'dim1'] = 1\n",
    "        sktime_df.at[i,'dim1'] = data_df.iloc[i,:]\n",
    "        sktime_df.at[i,'target'] = target_ser.iloc[i]"
   ]
  },
  {
   "cell_type": "code",
   "execution_count": 7,
   "metadata": {},
   "outputs": [],
   "source": [
    "\n",
    "X = sktime_df['dim1']\n",
    "y = sktime_df['target']\n",
    "model = TSDummyClassifier(strategy='most')\n",
    "model.fit(X, y)\n",
    "preds = model.predict(X)\n"
   ]
  }
 ],
 "metadata": {
  "kernelspec": {
   "display_name": "Python 3",
   "language": "python",
   "name": "python3"
  },
  "language_info": {
   "codemirror_mode": {
    "name": "ipython",
    "version": 3
   },
   "file_extension": ".py",
   "mimetype": "text/x-python",
   "name": "python",
   "nbconvert_exporter": "python",
   "pygments_lexer": "ipython3",
   "version": "3.6.8"
  }
 },
 "nbformat": 4,
 "nbformat_minor": 2
}
